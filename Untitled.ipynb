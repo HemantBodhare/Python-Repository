{
 "cells": [
  {
   "cell_type": "code",
   "execution_count": 3,
   "id": "8c015022-2466-4701-9cc4-82686e482ee1",
   "metadata": {},
   "outputs": [
    {
     "name": "stdout",
     "output_type": "stream",
     "text": [
      "3\n"
     ]
    }
   ],
   "source": [
    "str1=\"hello\"\n",
    "c=0\n",
    "for x in str1:\n",
    "    if(x!=\"l\"):\n",
    "        c=c+1\n",
    "else:\n",
    "    pass\n",
    "print(c)"
   ]
  },
  {
   "cell_type": "code",
   "execution_count": 5,
   "id": "6da2b6cd-0ab4-41cb-a85d-b5daf9b2c272",
   "metadata": {},
   "outputs": [
    {
     "ename": "SyntaxError",
     "evalue": "incomplete input (3799389352.py, line 1)",
     "output_type": "error",
     "traceback": [
      "\u001b[1;36m  Cell \u001b[1;32mIn[5], line 1\u001b[1;36m\u001b[0m\n\u001b[1;33m    if a==b:\u001b[0m\n\u001b[1;37m            ^\u001b[0m\n\u001b[1;31mSyntaxError\u001b[0m\u001b[1;31m:\u001b[0m incomplete input\n"
     ]
    }
   ],
   "source": [
    "if a==b:"
   ]
  },
  {
   "cell_type": "code",
   "execution_count": null,
   "id": "7ca3641c-b727-4fc2-bdce-462f4254fa11",
   "metadata": {},
   "outputs": [],
   "source": [
    "x= 'abcdef'\n",
    "i = 'i'\n",
    "\n",
    "while i in x:\n",
    "    print(i, end='')"
   ]
  },
  {
   "cell_type": "code",
   "execution_count": 1,
   "id": "2d9f3169-3dae-4284-a98f-37ee398d8d62",
   "metadata": {},
   "outputs": [
    {
     "name": "stdout",
     "output_type": "stream",
     "text": [
      "5\n"
     ]
    }
   ],
   "source": [
    "x= 7-2%5\n",
    "print(x)\n",
    "    "
   ]
  },
  {
   "cell_type": "code",
   "execution_count": 5,
   "id": "730c49ef-dc29-4c35-8209-e60e5f15703b",
   "metadata": {},
   "outputs": [
    {
     "name": "stdout",
     "output_type": "stream",
     "text": [
      "3\n"
     ]
    }
   ],
   "source": [
    "str1= 'hello'\n",
    "c = 0\n",
    "for x in str1:\n",
    "    if (x!=\"l\"):\n",
    "        c = c+1\n",
    "    else:\n",
    "        pass\n",
    "print(c)"
   ]
  },
  {
   "cell_type": "code",
   "execution_count": 7,
   "id": "d87a316f-a79e-4630-85ed-db0612f9e9b5",
   "metadata": {},
   "outputs": [],
   "source": [
    "x=\"abcdef\"\n",
    "i = \"i\"\n",
    "while i in x:\n",
    "    print(i, end='')"
   ]
  },
  {
   "cell_type": "code",
   "execution_count": 8,
   "id": "987c4010-60a3-4b82-8fbb-147bdeeb7e0d",
   "metadata": {},
   "outputs": [
    {
     "name": "stdout",
     "output_type": "stream",
     "text": [
      "8\n",
      "12\n"
     ]
    }
   ],
   "source": [
    "list1 = [3,2,5,6,0,7,9]\n",
    "\n",
    "sum = 0\n",
    "sum1= 0\n",
    "\n",
    "for elem in list1:\n",
    "    if(elem%2 ==0):\n",
    "        sum = sum + elem\n",
    "        continue\n",
    "    if(elem%3 ==0):\n",
    "        sum1 = sum1+elem\n",
    "print(sum)\n",
    "print(sum1)"
   ]
  },
  {
   "cell_type": "code",
   "execution_count": null,
   "id": "38ef0a21-682a-4773-aa6c-cd55ad81c3ef",
   "metadata": {},
   "outputs": [],
   "source": []
  }
 ],
 "metadata": {
  "kernelspec": {
   "display_name": "Python 3 (ipykernel)",
   "language": "python",
   "name": "python3"
  },
  "language_info": {
   "codemirror_mode": {
    "name": "ipython",
    "version": 3
   },
   "file_extension": ".py",
   "mimetype": "text/x-python",
   "name": "python",
   "nbconvert_exporter": "python",
   "pygments_lexer": "ipython3",
   "version": "3.12.4"
  }
 },
 "nbformat": 4,
 "nbformat_minor": 5
}
