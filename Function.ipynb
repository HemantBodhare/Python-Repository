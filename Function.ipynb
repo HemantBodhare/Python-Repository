{
 "cells": [
  {
   "cell_type": "code",
   "execution_count": 9,
   "id": "ad54deba-214e-4e07-b897-c6e578aa095a",
   "metadata": {},
   "outputs": [
    {
     "name": "stdout",
     "output_type": "stream",
     "text": [
      "215\n",
      "430\n",
      "645\n",
      "860\n",
      "1075\n",
      "1290\n",
      "1505\n",
      "1720\n",
      "1935\n",
      "2150\n",
      "2365\n",
      "2580\n"
     ]
    }
   ],
   "source": [
    "def table(x):\n",
    "    for i in range(x,x*13,x):\n",
    "        print(i)\n",
    "        \n",
    "        \n",
    "table(215)\n"
   ]
  },
  {
   "cell_type": "markdown",
   "id": "635ac11c-80be-4f79-a52a-601b565212c0",
   "metadata": {
    "jp-MarkdownHeadingCollapsed": true
   },
   "source": []
  },
  {
   "cell_type": "code",
   "execution_count": 17,
   "id": "3d002e99-9db2-41d3-a9ec-5e93b0547243",
   "metadata": {},
   "outputs": [
    {
     "name": "stdin",
     "output_type": "stream",
     "text": [
      "enter num1 23\n",
      "enter num2 23\n"
     ]
    },
    {
     "name": "stdout",
     "output_type": "stream",
     "text": [
      "46\n"
     ]
    }
   ],
   "source": [
    "def addition(x,y):\n",
    "    result=x+y\n",
    "    print(result)\n",
    "num1=int(input(\"enter num1\"))\n",
    "num2=int(input(\"enter num2\"))\n",
    "addition(num1,num2)\n"
   ]
  },
  {
   "cell_type": "code",
   "execution_count": 19,
   "id": "8e79f3dc-8ef0-47cd-be31-4e889c14e090",
   "metadata": {},
   "outputs": [
    {
     "name": "stdin",
     "output_type": "stream",
     "text": [
      "enter num 66\n"
     ]
    },
    {
     "name": "stdout",
     "output_type": "stream",
     "text": [
      "the square of  66  is  4356\n"
     ]
    }
   ],
   "source": [
    "def square(x):\n",
    "    res=x**2\n",
    "    print(\"the square of \",x,\" is \", res)\n",
    "\n",
    "\n",
    "num=int(input(\"enter num\"))\n",
    "square(num)"
   ]
  },
  {
   "cell_type": "code",
   "execution_count": 21,
   "id": "12cd745e-c474-4ced-9d8e-f5d7f4dadf5d",
   "metadata": {},
   "outputs": [
    {
     "name": "stdin",
     "output_type": "stream",
     "text": [
      "enter num 24\n"
     ]
    },
    {
     "name": "stdout",
     "output_type": "stream",
     "text": [
      "the square of  24  is  576\n"
     ]
    }
   ],
   "source": [
    "def square(x):\n",
    "    res=x**2\n",
    "    return res\n",
    "\n",
    "\n",
    "num=int(input(\"enter num\"))\n",
    "x=square(num)\n",
    "print(\"the square of \",num,\" is \", x)"
   ]
  },
  {
   "cell_type": "code",
   "execution_count": 26,
   "id": "89cfe0ee-d166-4e19-a977-6ec6c21a1f38",
   "metadata": {},
   "outputs": [
    {
     "name": "stdin",
     "output_type": "stream",
     "text": [
      "enter num 123\n"
     ]
    },
    {
     "ename": "KeyboardInterrupt",
     "evalue": "",
     "output_type": "error",
     "traceback": [
      "\u001b[1;31m---------------------------------------------------------------------------\u001b[0m",
      "\u001b[1;31mKeyboardInterrupt\u001b[0m                         Traceback (most recent call last)",
      "Cell \u001b[1;32mIn[26], line 11\u001b[0m\n\u001b[0;32m      8\u001b[0m     \u001b[38;5;28;01mreturn\u001b[39;00m rev\n\u001b[0;32m     10\u001b[0m num\u001b[38;5;241m=\u001b[39m\u001b[38;5;28mint\u001b[39m(\u001b[38;5;28minput\u001b[39m(\u001b[38;5;124m\"\u001b[39m\u001b[38;5;124menter num\u001b[39m\u001b[38;5;124m\"\u001b[39m))\n\u001b[1;32m---> 11\u001b[0m x\u001b[38;5;241m=\u001b[39m\u001b[43mpalindrome\u001b[49m\u001b[43m(\u001b[49m\u001b[43mnum\u001b[49m\u001b[43m)\u001b[49m\n\u001b[0;32m     12\u001b[0m \u001b[38;5;28mprint\u001b[39m(\u001b[38;5;124m\"\u001b[39m\u001b[38;5;124mthe palindrome of \u001b[39m\u001b[38;5;124m\"\u001b[39m,num,\u001b[38;5;124m\"\u001b[39m\u001b[38;5;124m is \u001b[39m\u001b[38;5;124m\"\u001b[39m, x)\n",
      "Cell \u001b[1;32mIn[26], line 6\u001b[0m, in \u001b[0;36mpalindrome\u001b[1;34m(x)\u001b[0m\n\u001b[0;32m      4\u001b[0m \u001b[38;5;28;01mwhile\u001b[39;00m (x\u001b[38;5;241m!=\u001b[39m\u001b[38;5;241m0\u001b[39m):\n\u001b[0;32m      5\u001b[0m     rem\u001b[38;5;241m=\u001b[39mx\u001b[38;5;241m%\u001b[39m\u001b[38;5;241m10\u001b[39m\n\u001b[1;32m----> 6\u001b[0m     rev\u001b[38;5;241m=\u001b[39m(\u001b[43mrev\u001b[49m\u001b[38;5;241;43m*\u001b[39;49m\u001b[38;5;241;43m10\u001b[39;49m)\u001b[38;5;241m+\u001b[39mrem\n\u001b[0;32m      7\u001b[0m     x\u001b[38;5;241m/\u001b[39m\u001b[38;5;241m/\u001b[39m\u001b[38;5;241m10\u001b[39m\n\u001b[0;32m      8\u001b[0m \u001b[38;5;28;01mreturn\u001b[39;00m rev\n",
      "\u001b[1;31mKeyboardInterrupt\u001b[0m: "
     ]
    }
   ],
   "source": [
    "def palindrome(x):\n",
    "    rev=0\n",
    "    rem=0\n",
    "    while (x!=0):\n",
    "        rem=x%10\n",
    "        rev=(rev*10)+rem\n",
    "        x//10\n",
    "    return rev\n",
    "\n",
    "num=int(input(\"enter num\"))\n",
    "x=palindrome(num)\n",
    "print(\"the palindrome of \",num,\" is \", x)"
   ]
  },
  {
   "cell_type": "code",
   "execution_count": 27,
   "id": "33959469-a3fb-4f61-96f3-b837529d32ca",
   "metadata": {},
   "outputs": [
    {
     "name": "stdin",
     "output_type": "stream",
     "text": [
      "enter value 2\n"
     ]
    },
    {
     "name": "stdout",
     "output_type": "stream",
     "text": [
      "12\n"
     ]
    }
   ],
   "source": [
    "#anonymous function\n",
    "\n",
    "x=int(input('enter value'))\n",
    "num=lambda a: a+10\n",
    "print(num(x))"
   ]
  },
  {
   "cell_type": "code",
   "execution_count": 31,
   "id": "5a49847a-bab1-4d0d-8267-4ddcc94aebf0",
   "metadata": {},
   "outputs": [
    {
     "name": "stdin",
     "output_type": "stream",
     "text": [
      "enter value 4\n"
     ]
    },
    {
     "name": "stdout",
     "output_type": "stream",
     "text": [
      "square of  4  is  16\n"
     ]
    }
   ],
   "source": [
    "x=int(input('enter value'))\n",
    "num=lambda a : a**2\n",
    "print('square of ',x,' is ',num(x))"
   ]
  },
  {
   "cell_type": "code",
   "execution_count": 44,
   "id": "5bd1abde-4dc3-4fe2-a64a-cd8a85f25dbc",
   "metadata": {},
   "outputs": [
    {
     "name": "stdin",
     "output_type": "stream",
     "text": [
      "enter number 5\n"
     ]
    },
    {
     "name": "stdout",
     "output_type": "stream",
     "text": [
      "the factorial of  5  is  120\n"
     ]
    }
   ],
   "source": [
    "# recursive function\n",
    "\n",
    "def factorial(x):\n",
    "    if x==1:\n",
    "        return 1\n",
    "    else:\n",
    "        return(x*factorial(x-1))\n",
    "num = int(input('enter number'))\n",
    "print('the factorial of ', num, ' is ', factorial(num))"
   ]
  },
  {
   "cell_type": "code",
   "execution_count": null,
   "id": "3657a57f-87eb-473f-a8d6-fddcb87142e4",
   "metadata": {},
   "outputs": [],
   "source": []
  }
 ],
 "metadata": {
  "kernelspec": {
   "display_name": "Python 3 (ipykernel)",
   "language": "python",
   "name": "python3"
  },
  "language_info": {
   "codemirror_mode": {
    "name": "ipython",
    "version": 3
   },
   "file_extension": ".py",
   "mimetype": "text/x-python",
   "name": "python",
   "nbconvert_exporter": "python",
   "pygments_lexer": "ipython3",
   "version": "3.12.4"
  }
 },
 "nbformat": 4,
 "nbformat_minor": 5
}
