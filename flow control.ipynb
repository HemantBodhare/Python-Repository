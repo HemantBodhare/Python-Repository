{
 "cells": [
  {
   "cell_type": "code",
   "execution_count": 1,
   "id": "7c097992-6166-4869-9d74-f9d00b2f47c7",
   "metadata": {},
   "outputs": [],
   "source": [
    "x=10+20\n"
   ]
  },
  {
   "cell_type": "code",
   "execution_count": 2,
   "id": "48da9ddd-73e1-4760-bf8c-e64736461a71",
   "metadata": {},
   "outputs": [
    {
     "data": {
      "text/plain": [
       "30"
      ]
     },
     "execution_count": 2,
     "metadata": {},
     "output_type": "execute_result"
    }
   ],
   "source": [
    "x"
   ]
  },
  {
   "cell_type": "code",
   "execution_count": 3,
   "id": "61f17c5a-6b34-46df-a695-058199361c51",
   "metadata": {},
   "outputs": [
    {
     "data": {
      "text/plain": [
       "True"
      ]
     },
     "execution_count": 3,
     "metadata": {},
     "output_type": "execute_result"
    }
   ],
   "source": [
    "x==30"
   ]
  },
  {
   "cell_type": "code",
   "execution_count": 4,
   "id": "831ac049-d666-4795-b4d8-a40d3bdaa5a4",
   "metadata": {},
   "outputs": [
    {
     "data": {
      "text/plain": [
       "False"
      ]
     },
     "execution_count": 4,
     "metadata": {},
     "output_type": "execute_result"
    }
   ],
   "source": [
    "x<30"
   ]
  },
  {
   "cell_type": "code",
   "execution_count": 5,
   "id": "eca7d807-889a-49ca-ac39-5ab1bcf7023f",
   "metadata": {},
   "outputs": [
    {
     "data": {
      "text/plain": [
       "True"
      ]
     },
     "execution_count": 5,
     "metadata": {},
     "output_type": "execute_result"
    }
   ],
   "source": [
    "x>10"
   ]
  },
  {
   "cell_type": "code",
   "execution_count": 6,
   "id": "59ed9200-12dc-4dab-8c5b-a29c647bdaca",
   "metadata": {},
   "outputs": [
    {
     "data": {
      "text/plain": [
       "False"
      ]
     },
     "execution_count": 6,
     "metadata": {},
     "output_type": "execute_result"
    }
   ],
   "source": [
    "x!=30"
   ]
  },
  {
   "cell_type": "code",
   "execution_count": 12,
   "id": "1dc00d3f-5a3a-406d-9387-ea37cdef6e2e",
   "metadata": {},
   "outputs": [],
   "source": [
    "marks =45"
   ]
  },
  {
   "cell_type": "code",
   "execution_count": 13,
   "id": "4311385a-3654-4aff-b641-762f06c635aa",
   "metadata": {},
   "outputs": [
    {
     "name": "stdout",
     "output_type": "stream",
     "text": [
      "just pass\n"
     ]
    }
   ],
   "source": [
    "if marks==45:\n",
    "    print('just pass')\n",
    "elif marks<45:\n",
    "    print('fail')\n",
    "else :\n",
    "    print('pass')\n",
    "    "
   ]
  },
  {
   "cell_type": "code",
   "execution_count": 20,
   "id": "191a9caf-8899-446b-a9f0-1453bdd3a9bd",
   "metadata": {},
   "outputs": [],
   "source": [
    "age=17"
   ]
  },
  {
   "cell_type": "code",
   "execution_count": 21,
   "id": "aadf1e3a-9ba8-4351-822a-e70131b8610a",
   "metadata": {},
   "outputs": [
    {
     "name": "stdout",
     "output_type": "stream",
     "text": [
      "lisence holder\n"
     ]
    }
   ],
   "source": [
    "if age == 18:\n",
    "    print('you are eligible for lisence')\n",
    "elif age<18:\n",
    "    print('lisence holder')\n",
    "else :\n",
    "    print('you are not eligible for lisence')"
   ]
  },
  {
   "cell_type": "code",
   "execution_count": 22,
   "id": "196d9817-3134-4017-8761-0b74dbaefb2d",
   "metadata": {},
   "outputs": [
    {
     "name": "stdout",
     "output_type": "stream",
     "text": [
      "1\n",
      "2\n",
      "3\n",
      "4\n",
      "you are out of loop\n"
     ]
    }
   ],
   "source": [
    "x=1\n",
    "while x<5:\n",
    "    print(x)\n",
    "    x=x+1\n",
    "print('you are out of loop')"
   ]
  },
  {
   "cell_type": "code",
   "execution_count": 1,
   "id": "8af9ef8b-0923-47df-a4e8-633e697ebde5",
   "metadata": {},
   "outputs": [
    {
     "name": "stdout",
     "output_type": "stream",
     "text": [
      "1 *\n",
      "2 *\n",
      "3 *\n",
      "4 *\n",
      "5 *\n"
     ]
    }
   ],
   "source": [
    "x=1\n",
    "while x<6:\n",
    "    \n"
   ]
  },
  {
   "cell_type": "markdown",
   "id": "ad18061c-c112-4e5f-983d-cec24f304868",
   "metadata": {},
   "source": [
    "x=int(input('enter value'))\n",
    "print('user value is', x)"
   ]
  },
  {
   "cell_type": "code",
   "execution_count": 5,
   "id": "3b964afb-aabd-4ae6-b4fd-d8badf21cd84",
   "metadata": {},
   "outputs": [
    {
     "name": "stdin",
     "output_type": "stream",
     "text": [
      "number to be reversed 12\n"
     ]
    },
    {
     "name": "stdout",
     "output_type": "stream",
     "text": [
      "21\n"
     ]
    }
   ],
   "source": [
    "# reverse\n",
    "num=int(input('number to be reversed'))\n",
    "rev=0\n",
    "while (num!=0):\n",
    "    rem=num%10\n",
    "    rev=(rev*10)+rem\n",
    "    num=num//10\n",
    "print(rev)\n",
    "        "
   ]
  },
  {
   "cell_type": "code",
   "execution_count": 11,
   "id": "43c0b7a8-35d1-471c-8acc-976a471686b8",
   "metadata": {},
   "outputs": [
    {
     "name": "stdin",
     "output_type": "stream",
     "text": [
      "number to be reversed 121\n"
     ]
    },
    {
     "name": "stdout",
     "output_type": "stream",
     "text": [
      "its a palindrome\n"
     ]
    }
   ],
   "source": [
    "#palindrome\n",
    "num=int(input('number to be reversed'))\n",
    "temp = num\n",
    "rev=0\n",
    "while (num!=0):\n",
    "    rem=num%10\n",
    "    rev=(rev*10)+rem\n",
    "    num=num//10\n",
    "if (rev==temp):\n",
    "    print(\"its a palindrome\")\n",
    "else:\n",
    "    print(\"its not a palindrome\")\n",
    "\n"
   ]
  },
  {
   "cell_type": "code",
   "execution_count": 22,
   "id": "8c7e596f-6b6d-446d-bd30-f49f4bd5ac7d",
   "metadata": {},
   "outputs": [
    {
     "name": "stdin",
     "output_type": "stream",
     "text": [
      "enter the number 123\n"
     ]
    },
    {
     "name": "stdout",
     "output_type": "stream",
     "text": [
      "not an armstrong\n"
     ]
    }
   ],
   "source": [
    "#armstrong\n",
    "num = int(input('enter the number'))\n",
    "x= len(str(num))\n",
    "temp= num\n",
    "\n",
    "sum=0\n",
    "rem=0\n",
    "while(num!=0):\n",
    "    rem=num%10\n",
    "    sum= sum+(rem**x)\n",
    "    num=num//10\n",
    "    \n",
    "if sum==temp:\n",
    "    print('armstrong')\n",
    "else:\n",
    "    print('not an armstrong')"
   ]
  },
  {
   "cell_type": "code",
   "execution_count": 47,
   "id": "e46c9fe6-d2d3-4286-a086-332a30d4c09d",
   "metadata": {},
   "outputs": [
    {
     "name": "stdin",
     "output_type": "stream",
     "text": [
      "enter the number 5\n"
     ]
    },
    {
     "name": "stdout",
     "output_type": "stream",
     "text": [
      "Factorial of 5 is 120\n"
     ]
    }
   ],
   "source": [
    "#factorial\n",
    "num=int(input('enter the number'))\n",
    "factorial=1\n",
    "for i in range(1, num+1):\n",
    "    factorial = i*factorial\n",
    "    \n",
    "print(\"Factorial of\", num, \"is\",\n",
    "factorial)"
   ]
  },
  {
   "cell_type": "code",
   "execution_count": 49,
   "id": "7c57d094-1ccd-46ca-86e4-49c21a156677",
   "metadata": {},
   "outputs": [
    {
     "name": "stdin",
     "output_type": "stream",
     "text": [
      "enter the number 5\n"
     ]
    },
    {
     "name": "stdout",
     "output_type": "stream",
     "text": [
      "Factorial of 5 is 120\n"
     ]
    }
   ],
   "source": [
    "#factorial\n",
    "num=int(input('enter the number'))\n",
    "factorial=1 \n",
    "if num<0:\n",
    "    print('factorial doesnt exist for negativr numbers')\n",
    "elif num==0:\n",
    "    print('factorial of zero is 1')\n",
    "else:\n",
    "    for i in range(1, num+1):\n",
    "        factorial = i*factorial\n",
    "    \n",
    "print(\"Factorial of\", num, \"is\",\n",
    "factorial)"
   ]
  },
  {
   "cell_type": "code",
   "execution_count": null,
   "id": "c8e6de0a-e970-41c9-9267-2bddb2ebac8f",
   "metadata": {},
   "outputs": [],
   "source": [
    "#strong number\n",
    "num=int(input(\"enter the number\"))\n",
    "rem=0\n",
    "factorial=0\n",
    "while(num!=0):\n",
    "    rem=rem%10\n",
    "    num//10\n",
    "sum=0\n",
    "def factorial(n):\n",
    "    factorial=1\n",
    "    for i in range(1, num+1):\n",
    "        factorial = i*factorial\n",
    "    \n",
    "for i in range(1,rem+1)"
   ]
  },
  {
   "cell_type": "code",
   "execution_count": 55,
   "id": "e3710664-56db-4ec7-baaf-e62ba98ee502",
   "metadata": {},
   "outputs": [
    {
     "name": "stdin",
     "output_type": "stream",
     "text": [
      "enter string hemu\n",
      "enter letter to be skipped m\n"
     ]
    },
    {
     "name": "stdout",
     "output_type": "stream",
     "text": [
      "h\n",
      "e\n",
      "we are out of loop\n"
     ]
    }
   ],
   "source": [
    "#break demo\n",
    "str1=str(input('enter string'))\n",
    "c=str(input('enter letter to be skipped'))\n",
    "for l in str1:\n",
    "    if(l==c):\n",
    "        break\n",
    "    else:\n",
    "        print(l)\n",
    "print('we are out of loop')"
   ]
  },
  {
   "cell_type": "code",
   "execution_count": 56,
   "id": "5ad6926a-31fa-4147-8e37-8fd772bce059",
   "metadata": {},
   "outputs": [
    {
     "name": "stdin",
     "output_type": "stream",
     "text": [
      "enter string hemant\n",
      "enter letter to be skipped m\n"
     ]
    },
    {
     "name": "stdout",
     "output_type": "stream",
     "text": [
      "h\n",
      "e\n",
      "a\n",
      "n\n",
      "t\n",
      "we are out of loop\n"
     ]
    }
   ],
   "source": [
    "#continue demo\n",
    "str1=str(input('enter string'))\n",
    "c=str(input('enter letter to be skipped'))\n",
    "for l in str1:\n",
    "    if(l==c):\n",
    "        continue\n",
    "    else:\n",
    "        print(l)\n",
    "print('we are out of loop')"
   ]
  },
  {
   "cell_type": "code",
   "execution_count": 57,
   "id": "a5f442f6-92f5-4105-a2d2-4bbe285e7429",
   "metadata": {},
   "outputs": [
    {
     "name": "stdin",
     "output_type": "stream",
     "text": [
      "enter string hemant\n",
      "enter letter to be skipped m\n"
     ]
    },
    {
     "name": "stdout",
     "output_type": "stream",
     "text": [
      "h\n",
      "e\n",
      "a\n",
      "n\n",
      "t\n",
      "we are out of loop\n"
     ]
    }
   ],
   "source": [
    "#pass demo\n",
    "str1=str(input('enter string'))\n",
    "c=str(input('enter letter to be skipped'))\n",
    "for l in str1:\n",
    "    if(l==c):\n",
    "        pass\n",
    "    else:\n",
    "        print(l)\n",
    "print('we are out of loop')"
   ]
  },
  {
   "cell_type": "code",
   "execution_count": null,
   "id": "b9cc56e7-ea2b-4eb9-b9ca-52703e22afd0",
   "metadata": {},
   "outputs": [],
   "source": []
  }
 ],
 "metadata": {
  "kernelspec": {
   "display_name": "Python 3 (ipykernel)",
   "language": "python",
   "name": "python3"
  },
  "language_info": {
   "codemirror_mode": {
    "name": "ipython",
    "version": 3
   },
   "file_extension": ".py",
   "mimetype": "text/x-python",
   "name": "python",
   "nbconvert_exporter": "python",
   "pygments_lexer": "ipython3",
   "version": "3.12.4"
  }
 },
 "nbformat": 4,
 "nbformat_minor": 5
}
