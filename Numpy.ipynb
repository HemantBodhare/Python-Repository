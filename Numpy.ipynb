{
 "cells": [
  {
   "cell_type": "code",
   "execution_count": 3,
   "id": "fafcb181-87c9-496e-bd55-4fb9388f8cda",
   "metadata": {},
   "outputs": [
    {
     "name": "stdout",
     "output_type": "stream",
     "text": [
      "^C\n",
      "Collecting numpy\n",
      "  Downloading numpy-2.0.0-cp312-cp312-win_amd64.whl.metadata (60 kB)\n",
      "     ---------------------------------------- 0.0/60.9 kB ? eta -:--:--\n",
      "     --------------------------------- ------ 51.2/60.9 kB ? eta -:--:--\n",
      "     --------------------------------- ------ 51.2/60.9 kB ? eta -:--:--\n",
      "     --------------------------------- ------ 51.2/60.9 kB ? eta -:--:--\n",
      "     --------------------------------- ------ 51.2/60.9 kB ? eta -:--:--\n",
      "     --------------------------------- ------ 51.2/60.9 kB ? eta -:--:--\n",
      "     --------------------------------- ------ 51.2/60.9 kB ? eta -:--:--\n",
      "     -------------------------------------- 60.9/60.9 kB 202.6 kB/s eta 0:00:00\n",
      "Downloading numpy-2.0.0-cp312-cp312-win_amd64.whl (16.2 MB)\n",
      "   ---------------------------------------- 0.0/16.2 MB ? eta -:--:--\n",
      "   ---------------------------------------- 0.1/16.2 MB 3.3 MB/s eta 0:00:05\n",
      "   ---------------------------------------- 0.2/16.2 MB 3.9 MB/s eta 0:00:05\n",
      "    --------------------------------------- 0.3/16.2 MB 2.3 MB/s eta 0:00:07\n",
      "    --------------------------------------- 0.4/16.2 MB 3.3 MB/s eta 0:00:05\n",
      "   - -------------------------------------- 0.6/16.2 MB 2.9 MB/s eta 0:00:06\n",
      "   - -------------------------------------- 0.7/16.2 MB 2.8 MB/s eta 0:00:06\n",
      "   - -------------------------------------- 0.8/16.2 MB 2.9 MB/s eta 0:00:06\n",
      "   -- ------------------------------------- 0.9/16.2 MB 2.9 MB/s eta 0:00:06\n",
      "   -- ------------------------------------- 0.9/16.2 MB 2.6 MB/s eta 0:00:06\n",
      "   -- ------------------------------------- 1.1/16.2 MB 2.7 MB/s eta 0:00:06\n",
      "   -- ------------------------------------- 1.1/16.2 MB 2.6 MB/s eta 0:00:06\n",
      "   --- ------------------------------------ 1.2/16.2 MB 2.6 MB/s eta 0:00:06\n",
      "   --- ------------------------------------ 1.3/16.2 MB 2.6 MB/s eta 0:00:06\n",
      "   --- ------------------------------------ 1.4/16.2 MB 2.6 MB/s eta 0:00:06\n",
      "   --- ------------------------------------ 1.5/16.2 MB 2.6 MB/s eta 0:00:06\n",
      "   --- ------------------------------------ 1.6/16.2 MB 2.5 MB/s eta 0:00:06\n",
      "   ---- ----------------------------------- 1.7/16.2 MB 2.5 MB/s eta 0:00:06\n",
      "   ---- ----------------------------------- 1.8/16.2 MB 2.5 MB/s eta 0:00:06\n",
      "   ---- ----------------------------------- 1.9/16.2 MB 2.6 MB/s eta 0:00:06\n",
      "   ---- ----------------------------------- 2.0/16.2 MB 2.6 MB/s eta 0:00:06\n",
      "   ---- ----------------------------------- 2.0/16.2 MB 2.6 MB/s eta 0:00:06\n",
      "   ---- ----------------------------------- 2.0/16.2 MB 2.6 MB/s eta 0:00:06\n",
      "   ---- ----------------------------------- 2.0/16.2 MB 2.6 MB/s eta 0:00:06\n",
      "   ---- ----------------------------------- 2.0/16.2 MB 2.6 MB/s eta 0:00:06\n",
      "   ----- ---------------------------------- 2.2/16.2 MB 2.2 MB/s eta 0:00:07\n",
      "   ----- ---------------------------------- 2.4/16.2 MB 2.3 MB/s eta 0:00:06\n",
      "   ------ --------------------------------- 2.5/16.2 MB 2.3 MB/s eta 0:00:06\n",
      "   ------ --------------------------------- 2.6/16.2 MB 2.4 MB/s eta 0:00:06\n",
      "   ------ --------------------------------- 2.7/16.2 MB 2.4 MB/s eta 0:00:06\n",
      "   ------- -------------------------------- 2.8/16.2 MB 2.4 MB/s eta 0:00:06\n",
      "   ------- -------------------------------- 3.0/16.2 MB 2.4 MB/s eta 0:00:06\n",
      "   ------- -------------------------------- 3.1/16.2 MB 2.4 MB/s eta 0:00:06\n",
      "   ------- -------------------------------- 3.2/16.2 MB 2.4 MB/s eta 0:00:06\n",
      "   -------- ------------------------------- 3.3/16.2 MB 2.5 MB/s eta 0:00:06\n",
      "   -------- ------------------------------- 3.4/16.2 MB 2.5 MB/s eta 0:00:06\n",
      "   -------- ------------------------------- 3.5/16.2 MB 2.5 MB/s eta 0:00:06\n",
      "   -------- ------------------------------- 3.6/16.2 MB 2.5 MB/s eta 0:00:06\n",
      "   --------- ------------------------------ 3.7/16.2 MB 2.5 MB/s eta 0:00:06\n",
      "   --------- ------------------------------ 3.8/16.2 MB 2.5 MB/s eta 0:00:05\n",
      "   --------- ------------------------------ 3.9/16.2 MB 2.5 MB/s eta 0:00:05\n",
      "   ---------- ----------------------------- 4.1/16.2 MB 2.5 MB/s eta 0:00:05\n",
      "   ---------- ----------------------------- 4.1/16.2 MB 2.5 MB/s eta 0:00:05\n",
      "   ---------- ----------------------------- 4.1/16.2 MB 2.5 MB/s eta 0:00:05\n",
      "   ---------- ----------------------------- 4.4/16.2 MB 2.5 MB/s eta 0:00:05\n",
      "   ---------- ----------------------------- 4.4/16.2 MB 2.5 MB/s eta 0:00:05\n",
      "   ---------- ----------------------------- 4.4/16.2 MB 2.4 MB/s eta 0:00:05\n",
      "   ----------- ---------------------------- 4.5/16.2 MB 2.4 MB/s eta 0:00:05\n",
      "   ----------- ---------------------------- 4.6/16.2 MB 2.4 MB/s eta 0:00:05\n",
      "   ----------- ---------------------------- 4.7/16.2 MB 2.4 MB/s eta 0:00:05\n",
      "   ----------- ---------------------------- 4.8/16.2 MB 2.5 MB/s eta 0:00:05\n",
      "   ------------ --------------------------- 4.9/16.2 MB 2.4 MB/s eta 0:00:05\n",
      "   ------------ --------------------------- 5.0/16.2 MB 2.5 MB/s eta 0:00:05\n",
      "   ------------ --------------------------- 5.1/16.2 MB 2.4 MB/s eta 0:00:05\n",
      "   ------------ --------------------------- 5.2/16.2 MB 2.4 MB/s eta 0:00:05\n",
      "   ------------ --------------------------- 5.2/16.2 MB 2.4 MB/s eta 0:00:05\n",
      "   ------------ --------------------------- 5.2/16.2 MB 2.4 MB/s eta 0:00:05\n",
      "   ------------ --------------------------- 5.2/16.2 MB 2.4 MB/s eta 0:00:05\n",
      "   ------------ --------------------------- 5.2/16.2 MB 2.4 MB/s eta 0:00:05\n",
      "   ------------ --------------------------- 5.2/16.2 MB 2.4 MB/s eta 0:00:05\n",
      "   ------------- -------------------------- 5.5/16.2 MB 2.4 MB/s eta 0:00:05\n",
      "   ------------- -------------------------- 5.5/16.2 MB 2.3 MB/s eta 0:00:05\n",
      "   ------------- -------------------------- 5.6/16.2 MB 2.3 MB/s eta 0:00:05\n",
      "   ------------- -------------------------- 5.6/16.2 MB 2.3 MB/s eta 0:00:05\n",
      "   ------------- -------------------------- 5.6/16.2 MB 2.3 MB/s eta 0:00:05\n",
      "   -------------- ------------------------- 5.8/16.2 MB 2.2 MB/s eta 0:00:05\n",
      "   -------------- ------------------------- 5.9/16.2 MB 2.2 MB/s eta 0:00:05\n",
      "   -------------- ------------------------- 6.0/16.2 MB 2.3 MB/s eta 0:00:05\n",
      "   -------------- ------------------------- 6.1/16.2 MB 2.2 MB/s eta 0:00:05\n",
      "   --------------- ------------------------ 6.2/16.2 MB 2.3 MB/s eta 0:00:05\n",
      "   --------------- ------------------------ 6.3/16.2 MB 2.3 MB/s eta 0:00:05\n",
      "   --------------- ------------------------ 6.3/16.2 MB 2.3 MB/s eta 0:00:05\n",
      "   --------------- ------------------------ 6.5/16.2 MB 2.3 MB/s eta 0:00:05\n",
      "   ---------------- ----------------------- 6.6/16.2 MB 2.3 MB/s eta 0:00:05\n",
      "   ---------------- ----------------------- 6.7/16.2 MB 2.3 MB/s eta 0:00:05\n",
      "   ---------------- ----------------------- 6.8/16.2 MB 2.3 MB/s eta 0:00:05\n",
      "   ----------------- ---------------------- 6.9/16.2 MB 2.3 MB/s eta 0:00:05\n",
      "   ----------------- ---------------------- 6.9/16.2 MB 2.3 MB/s eta 0:00:05\n",
      "   ----------------- ---------------------- 7.0/16.2 MB 2.3 MB/s eta 0:00:05\n",
      "   ----------------- ---------------------- 7.1/16.2 MB 2.3 MB/s eta 0:00:04\n",
      "   ----------------- ---------------------- 7.2/16.2 MB 2.3 MB/s eta 0:00:04\n",
      "   ------------------ --------------------- 7.3/16.2 MB 2.3 MB/s eta 0:00:04\n",
      "   ------------------ --------------------- 7.4/16.2 MB 2.3 MB/s eta 0:00:04\n",
      "   ------------------ --------------------- 7.5/16.2 MB 2.3 MB/s eta 0:00:04\n",
      "   ------------------ --------------------- 7.6/16.2 MB 2.3 MB/s eta 0:00:04\n",
      "   ------------------ --------------------- 7.7/16.2 MB 2.3 MB/s eta 0:00:04\n",
      "   ------------------- -------------------- 7.8/16.2 MB 2.3 MB/s eta 0:00:04\n",
      "   ------------------- -------------------- 7.9/16.2 MB 2.3 MB/s eta 0:00:04\n",
      "   ------------------- -------------------- 8.0/16.2 MB 2.3 MB/s eta 0:00:04\n",
      "   ------------------- -------------------- 8.1/16.2 MB 2.3 MB/s eta 0:00:04\n",
      "   -------------------- ------------------- 8.2/16.2 MB 2.3 MB/s eta 0:00:04\n",
      "   -------------------- ------------------- 8.3/16.2 MB 2.3 MB/s eta 0:00:04\n",
      "   -------------------- ------------------- 8.4/16.2 MB 2.3 MB/s eta 0:00:04\n",
      "   -------------------- ------------------- 8.5/16.2 MB 2.3 MB/s eta 0:00:04\n",
      "   --------------------- ------------------ 8.6/16.2 MB 2.3 MB/s eta 0:00:04\n",
      "   --------------------- ------------------ 8.7/16.2 MB 2.3 MB/s eta 0:00:04\n",
      "   --------------------- ------------------ 8.8/16.2 MB 2.3 MB/s eta 0:00:04\n",
      "   ---------------------- ----------------- 8.9/16.2 MB 2.4 MB/s eta 0:00:04\n",
      "   ---------------------- ----------------- 9.0/16.2 MB 2.4 MB/s eta 0:00:04\n",
      "   ---------------------- ----------------- 9.2/16.2 MB 2.4 MB/s eta 0:00:03\n",
      "   ---------------------- ----------------- 9.3/16.2 MB 2.4 MB/s eta 0:00:03\n",
      "   ----------------------- ---------------- 9.4/16.2 MB 2.4 MB/s eta 0:00:03\n",
      "   ----------------------- ---------------- 9.5/16.2 MB 2.4 MB/s eta 0:00:03\n",
      "   ----------------------- ---------------- 9.5/16.2 MB 2.4 MB/s eta 0:00:03\n",
      "   ----------------------- ---------------- 9.6/16.2 MB 2.4 MB/s eta 0:00:03\n",
      "   ----------------------- ---------------- 9.7/16.2 MB 2.4 MB/s eta 0:00:03\n",
      "   ------------------------ --------------- 9.8/16.2 MB 2.4 MB/s eta 0:00:03\n",
      "   ------------------------ --------------- 9.8/16.2 MB 2.4 MB/s eta 0:00:03\n",
      "   ------------------------ --------------- 9.8/16.2 MB 2.4 MB/s eta 0:00:03\n",
      "   ------------------------ --------------- 9.8/16.2 MB 2.4 MB/s eta 0:00:03\n",
      "   ------------------------- -------------- 10.2/16.2 MB 2.4 MB/s eta 0:00:03\n",
      "   ------------------------- -------------- 10.4/16.2 MB 2.4 MB/s eta 0:00:03\n",
      "   ------------------------- -------------- 10.5/16.2 MB 2.4 MB/s eta 0:00:03\n",
      "   -------------------------- ------------- 10.6/16.2 MB 2.4 MB/s eta 0:00:03\n",
      "   -------------------------- ------------- 10.7/16.2 MB 2.4 MB/s eta 0:00:03\n",
      "   -------------------------- ------------- 10.8/16.2 MB 2.4 MB/s eta 0:00:03\n",
      "   --------------------------- ------------ 11.0/16.2 MB 2.4 MB/s eta 0:00:03\n",
      "   --------------------------- ------------ 11.1/16.2 MB 2.4 MB/s eta 0:00:03\n",
      "   --------------------------- ------------ 11.2/16.2 MB 2.4 MB/s eta 0:00:03\n",
      "   --------------------------- ------------ 11.3/16.2 MB 2.4 MB/s eta 0:00:02\n",
      "   ---------------------------- ----------- 11.5/16.2 MB 2.4 MB/s eta 0:00:02\n",
      "   ---------------------------- ----------- 11.6/16.2 MB 2.5 MB/s eta 0:00:02\n",
      "   ----------------------------- ---------- 11.8/16.2 MB 2.5 MB/s eta 0:00:02\n",
      "   ----------------------------- ---------- 12.1/16.2 MB 2.5 MB/s eta 0:00:02\n",
      "   ----------------------------- ---------- 12.1/16.2 MB 2.5 MB/s eta 0:00:02\n",
      "   ------------------------------- -------- 12.7/16.2 MB 2.7 MB/s eta 0:00:02\n",
      "   ------------------------------- -------- 12.9/16.2 MB 2.7 MB/s eta 0:00:02\n",
      "   -------------------------------- ------- 13.2/16.2 MB 2.8 MB/s eta 0:00:02\n",
      "   --------------------------------- ------ 13.5/16.2 MB 2.8 MB/s eta 0:00:01\n",
      "   ---------------------------------- ----- 13.8/16.2 MB 2.9 MB/s eta 0:00:01\n",
      "   ---------------------------------- ----- 14.1/16.2 MB 2.9 MB/s eta 0:00:01\n",
      "   ----------------------------------- ---- 14.2/16.2 MB 2.9 MB/s eta 0:00:01\n",
      "   ----------------------------------- ---- 14.4/16.2 MB 3.0 MB/s eta 0:00:01\n",
      "   ----------------------------------- ---- 14.5/16.2 MB 3.0 MB/s eta 0:00:01\n",
      "   ------------------------------------ --- 14.8/16.2 MB 3.1 MB/s eta 0:00:01\n",
      "   ------------------------------------- -- 15.1/16.2 MB 3.1 MB/s eta 0:00:01\n",
      "   ------------------------------------- -- 15.3/16.2 MB 3.2 MB/s eta 0:00:01\n",
      "   -------------------------------------- - 15.6/16.2 MB 3.4 MB/s eta 0:00:01\n",
      "   -------------------------------------- - 15.8/16.2 MB 3.5 MB/s eta 0:00:01\n",
      "   ---------------------------------------  15.9/16.2 MB 3.6 MB/s eta 0:00:01\n",
      "   ---------------------------------------  16.2/16.2 MB 3.7 MB/s eta 0:00:01\n",
      "   ---------------------------------------  16.2/16.2 MB 3.7 MB/s eta 0:00:01\n",
      "   ---------------------------------------  16.2/16.2 MB 3.7 MB/s eta 0:00:01\n",
      "   ---------------------------------------  16.2/16.2 MB 3.7 MB/s eta 0:00:01\n",
      "   ---------------------------------------  16.2/16.2 MB 3.7 MB/s eta 0:00:01\n",
      "   ---------------------------------------  16.2/16.2 MB 3.7 MB/s eta 0:00:01\n",
      "   ---------------------------------------  16.2/16.2 MB 3.7 MB/s eta 0:00:01\n",
      "   ---------------------------------------  16.2/16.2 MB 3.7 MB/s eta 0:00:01\n",
      "   ---------------------------------------  16.2/16.2 MB 3.7 MB/s eta 0:00:01\n",
      "   ---------------------------------------  16.2/16.2 MB 3.7 MB/s eta 0:00:01\n",
      "   ---------------------------------------  16.2/16.2 MB 3.7 MB/s eta 0:00:01\n",
      "   ---------------------------------------  16.2/16.2 MB 3.7 MB/s eta 0:00:01\n",
      "   ---------------------------------------  16.2/16.2 MB 3.7 MB/s eta 0:00:01\n",
      "   ---------------------------------------  16.2/16.2 MB 3.7 MB/s eta 0:00:01\n",
      "   ---------------------------------------  16.2/16.2 MB 3.7 MB/s eta 0:00:01\n",
      "   ---------------------------------------  16.2/16.2 MB 3.7 MB/s eta 0:00:01\n",
      "   ---------------------------------------  16.2/16.2 MB 3.7 MB/s eta 0:00:01\n",
      "   ---------------------------------------  16.2/16.2 MB 3.7 MB/s eta 0:00:01\n",
      "   ---------------------------------------  16.2/16.2 MB 3.7 MB/s eta 0:00:01\n",
      "   ---------------------------------------  16.2/16.2 MB 3.7 MB/s eta 0:00:01\n",
      "   ---------------------------------------  16.2/16.2 MB 3.7 MB/s eta 0:00:01\n",
      "   ---------------------------------------  16.2/16.2 MB 3.7 MB/s eta 0:00:01\n",
      "   ---------------------------------------  16.2/16.2 MB 3.7 MB/s eta 0:00:01\n",
      "   ---------------------------------------  16.2/16.2 MB 3.7 MB/s eta 0:00:01\n",
      "   ---------------------------------------  16.2/16.2 MB 3.7 MB/s eta 0:00:01\n",
      "   ---------------------------------------  16.2/16.2 MB 3.7 MB/s eta 0:00:01\n",
      "   ---------------------------------------  16.2/16.2 MB 3.7 MB/s eta 0:00:01\n",
      "   ---------------------------------------  16.2/16.2 MB 3.7 MB/s eta 0:00:01\n",
      "   ---------------------------------------- 16.2/16.2 MB 2.6 MB/s eta 0:00:00\n",
      "Installing collected packages: numpy\n",
      "Successfully installed numpy-2.0.0\n"
     ]
    }
   ],
   "source": [
    "!pip install numpy"
   ]
  },
  {
   "cell_type": "code",
   "execution_count": 5,
   "id": "42c6481f-96a6-431d-92ad-679b0deab74a",
   "metadata": {},
   "outputs": [],
   "source": [
    "import numpy as np"
   ]
  },
  {
   "cell_type": "code",
   "execution_count": 13,
   "id": "74fcf839-a424-48f0-8c4e-69316a14280c",
   "metadata": {},
   "outputs": [
    {
     "data": {
      "text/plain": [
       "list"
      ]
     },
     "execution_count": 13,
     "metadata": {},
     "output_type": "execute_result"
    }
   ],
   "source": [
    "a=[1,2,3,4,5,6]\n",
    "a \n",
    "type(a)"
   ]
  },
  {
   "cell_type": "code",
   "execution_count": 14,
   "id": "fc3c9337-0f66-4e43-9354-40eee661d9ae",
   "metadata": {},
   "outputs": [
    {
     "data": {
      "text/plain": [
       "numpy.ndarray"
      ]
     },
     "execution_count": 14,
     "metadata": {},
     "output_type": "execute_result"
    }
   ],
   "source": [
    "# creating array from list\n",
    "x=np.array(a)\n",
    "x\n",
    "type(x)"
   ]
  },
  {
   "cell_type": "code",
   "execution_count": 16,
   "id": "c24fec46-eebf-48a3-8671-3b818f8fd583",
   "metadata": {},
   "outputs": [],
   "source": [
    "a=np.array([[1,2,3],[4,5,6]])\n"
   ]
  },
  {
   "cell_type": "code",
   "execution_count": 17,
   "id": "b105b4ad-c8f8-4144-9226-41d9ab8debc2",
   "metadata": {},
   "outputs": [
    {
     "data": {
      "text/plain": [
       "(2, 3)"
      ]
     },
     "execution_count": 17,
     "metadata": {},
     "output_type": "execute_result"
    }
   ],
   "source": [
    "a.shape # returns shape of an array"
   ]
  },
  {
   "cell_type": "code",
   "execution_count": 18,
   "id": "a138bd38-c5a5-4b50-a5ff-ee5940a3a3a8",
   "metadata": {},
   "outputs": [
    {
     "name": "stdout",
     "output_type": "stream",
     "text": [
      "[[1 2 3]\n",
      " [4 5 6]]\n"
     ]
    }
   ],
   "source": [
    "print(a)"
   ]
  },
  {
   "cell_type": "code",
   "execution_count": 19,
   "id": "75acc92f-fabf-41a7-8e2d-167841ccf1f0",
   "metadata": {},
   "outputs": [
    {
     "data": {
      "text/plain": [
       "6"
      ]
     },
     "execution_count": 19,
     "metadata": {},
     "output_type": "execute_result"
    }
   ],
   "source": [
    "a.size   # returns total number of elements in an array"
   ]
  },
  {
   "cell_type": "code",
   "execution_count": 20,
   "id": "87bbf813-0635-498c-b653-24109889145f",
   "metadata": {},
   "outputs": [
    {
     "data": {
      "text/plain": [
       "2"
      ]
     },
     "execution_count": 20,
     "metadata": {},
     "output_type": "execute_result"
    }
   ],
   "source": [
    "a.ndim # gives how many dimension of an array"
   ]
  },
  {
   "cell_type": "code",
   "execution_count": 25,
   "id": "b8c2f312-f570-4020-ba01-d5ede52f9c6d",
   "metadata": {},
   "outputs": [],
   "source": [
    "# teranspose\n",
    "a= a.T # use capital T"
   ]
  },
  {
   "cell_type": "code",
   "execution_count": 26,
   "id": "4012739f-c226-475b-9486-ae0289638f38",
   "metadata": {},
   "outputs": [
    {
     "data": {
      "text/plain": [
       "(3, 2)"
      ]
     },
     "execution_count": 26,
     "metadata": {},
     "output_type": "execute_result"
    }
   ],
   "source": [
    "a.shape"
   ]
  },
  {
   "cell_type": "code",
   "execution_count": 39,
   "id": "4a00a9f0-dadf-4ce0-b0e8-a6e968ebeda7",
   "metadata": {},
   "outputs": [
    {
     "data": {
      "text/plain": [
       "array([[1, 2],\n",
       "       [3, 4],\n",
       "       [5, 6]])"
      ]
     },
     "execution_count": 39,
     "metadata": {},
     "output_type": "execute_result"
    }
   ],
   "source": [
    "a=a.reshape(3,2)  # change the shape of an array , make sure product of elements should be same\n",
    "a"
   ]
  },
  {
   "cell_type": "code",
   "execution_count": 42,
   "id": "bab26990-ef6c-48a1-92d0-29a27ddc13f6",
   "metadata": {},
   "outputs": [
    {
     "data": {
      "text/plain": [
       "(2, 3)"
      ]
     },
     "execution_count": 42,
     "metadata": {},
     "output_type": "execute_result"
    }
   ],
   "source": [
    "a= np.array([[1,2,3],[4,5,6]])\n",
    "a.shape"
   ]
  },
  {
   "cell_type": "code",
   "execution_count": 43,
   "id": "c2005e3c-b6ea-47d1-bae9-cf8281bf7a44",
   "metadata": {},
   "outputs": [
    {
     "data": {
      "text/plain": [
       "(6,)"
      ]
     },
     "execution_count": 43,
     "metadata": {},
     "output_type": "execute_result"
    }
   ],
   "source": [
    "b=np.array([11,12,13,14,15,16])\n",
    "b.shape"
   ]
  },
  {
   "cell_type": "code",
   "execution_count": 44,
   "id": "c54c043b-5ef1-4af9-8be2-258798901b57",
   "metadata": {},
   "outputs": [
    {
     "data": {
      "text/plain": [
       "array([[11, 12, 13],\n",
       "       [14, 15, 16]])"
      ]
     },
     "execution_count": 44,
     "metadata": {},
     "output_type": "execute_result"
    }
   ],
   "source": [
    "b=b.reshape(2,3)\n",
    "b"
   ]
  },
  {
   "cell_type": "code",
   "execution_count": 47,
   "id": "03af9c5b-e43c-4bda-bea8-99cb0f93e677",
   "metadata": {},
   "outputs": [
    {
     "data": {
      "text/plain": [
       "array([[ 1,  2,  3],\n",
       "       [ 4,  5,  6],\n",
       "       [11, 12, 13],\n",
       "       [14, 15, 16]])"
      ]
     },
     "execution_count": 47,
     "metadata": {},
     "output_type": "execute_result"
    }
   ],
   "source": [
    "c= np.concatenate((a,b))  #use double parantheses\n",
    "c"
   ]
  },
  {
   "cell_type": "code",
   "execution_count": 48,
   "id": "207cf5b2-f664-454d-9dff-b26aacf02cae",
   "metadata": {},
   "outputs": [
    {
     "data": {
      "text/plain": [
       "(4, 3)"
      ]
     },
     "execution_count": 48,
     "metadata": {},
     "output_type": "execute_result"
    }
   ],
   "source": [
    "c.shape"
   ]
  },
  {
   "cell_type": "code",
   "execution_count": 52,
   "id": "747de5fc-82e4-4145-bea4-b821d5482387",
   "metadata": {},
   "outputs": [
    {
     "data": {
      "text/plain": [
       "array([[ 1,  2,  3],\n",
       "       [ 4,  5,  6],\n",
       "       [11, 12, 13],\n",
       "       [14, 15, 16]])"
      ]
     },
     "execution_count": 52,
     "metadata": {},
     "output_type": "execute_result"
    }
   ],
   "source": [
    "np.vstack((a,b)) # joins two array vertically (column)"
   ]
  },
  {
   "cell_type": "code",
   "execution_count": 51,
   "id": "45b0c53e-82c6-445e-929e-0504f651843f",
   "metadata": {},
   "outputs": [
    {
     "data": {
      "text/plain": [
       "array([[ 1,  2,  3, 11, 12, 13],\n",
       "       [ 4,  5,  6, 14, 15, 16]])"
      ]
     },
     "execution_count": 51,
     "metadata": {},
     "output_type": "execute_result"
    }
   ],
   "source": [
    "np.hstack((a,b)) # joins two array horizontally (row)"
   ]
  },
  {
   "cell_type": "code",
   "execution_count": 53,
   "id": "b0085160-e7f5-4cd7-b3a1-d02b1cd9c67d",
   "metadata": {},
   "outputs": [
    {
     "data": {
      "text/plain": [
       "array([[ 1,  2,  3],\n",
       "       [ 4,  5,  6],\n",
       "       [11, 12, 13],\n",
       "       [14, 15, 16]])"
      ]
     },
     "execution_count": 53,
     "metadata": {},
     "output_type": "execute_result"
    }
   ],
   "source": [
    "c"
   ]
  },
  {
   "cell_type": "code",
   "execution_count": 72,
   "id": "94910dbe-62bb-4184-9ab0-0ca6fad0921b",
   "metadata": {},
   "outputs": [
    {
     "data": {
      "text/plain": [
       "array([ 1, 17, 18, 19, 20, 21, 22])"
      ]
     },
     "execution_count": 72,
     "metadata": {},
     "output_type": "execute_result"
    }
   ],
   "source": [
    "#append\n",
    "c=np.append(c,[[17,18,19],[20,21,22]])\n",
    "c"
   ]
  },
  {
   "cell_type": "code",
   "execution_count": 75,
   "id": "1ce617bc-c6c8-4be4-ad98-9c447700651b",
   "metadata": {},
   "outputs": [
    {
     "data": {
      "text/plain": [
       "array([17, 18, 19, 20, 21, 22])"
      ]
     },
     "execution_count": 75,
     "metadata": {},
     "output_type": "execute_result"
    }
   ],
   "source": [
    "#delete\n",
    "c=np.delete(c,[0]) # which array from what index\n",
    "c"
   ]
  },
  {
   "cell_type": "code",
   "execution_count": 74,
   "id": "2837991a-6e05-4da5-95af-74325c8b17a3",
   "metadata": {},
   "outputs": [
    {
     "data": {
      "text/plain": [
       "array([ 1, 17, 18, 19, 20, 21, 22])"
      ]
     },
     "execution_count": 74,
     "metadata": {},
     "output_type": "execute_result"
    }
   ],
   "source": [
    "# insert\n",
    "c=np.insert(c,0,1) # which array from what index and value\n",
    "c"
   ]
  },
  {
   "cell_type": "code",
   "execution_count": 81,
   "id": "d45c5c96-7a86-43c2-be8a-5b7e5cbcb8be",
   "metadata": {},
   "outputs": [
    {
     "name": "stdout",
     "output_type": "stream",
     "text": [
      "[0 1 2 3 4 5] [ 2  4  6  8 10 12 14 16 18 20 22 24 26 28]\n"
     ]
    }
   ],
   "source": [
    "# arange- it create an array with given size\n",
    "# slicing single dimension array\n",
    "x=np.arange(6) #0 to n-1, i.e 0 to 5\n",
    "x\n",
    "y= np.arange(2,30,2)  #syntax(lower limit , upper limit, difference)\n",
    "y\n",
    "print(x,y)"
   ]
  },
  {
   "cell_type": "code",
   "execution_count": 86,
   "id": "b972f044-c10c-4a30-9f80-2b339895e935",
   "metadata": {},
   "outputs": [
    {
     "data": {
      "text/plain": [
       "array([[ 2,  4],\n",
       "       [ 6,  8],\n",
       "       [10, 12],\n",
       "       [14, 16],\n",
       "       [18, 20],\n",
       "       [22, 24],\n",
       "       [26, 28]])"
      ]
     },
     "execution_count": 86,
     "metadata": {},
     "output_type": "execute_result"
    }
   ],
   "source": [
    "y=y.reshape(7,2)\n",
    "y"
   ]
  },
  {
   "cell_type": "code",
   "execution_count": 87,
   "id": "341392e1-8a6b-4d11-b2fd-22a0e103ca8e",
   "metadata": {},
   "outputs": [
    {
     "data": {
      "text/plain": [
       "array([[ 2,  4],\n",
       "       [ 6,  8],\n",
       "       [10, 12],\n",
       "       [14, 16]])"
      ]
     },
     "execution_count": 87,
     "metadata": {},
     "output_type": "execute_result"
    }
   ],
   "source": [
    "y[0:4]  #slicing using indexing "
   ]
  },
  {
   "cell_type": "code",
   "execution_count": 89,
   "id": "b0a87255-f1a6-403b-811d-8800ca01a14e",
   "metadata": {},
   "outputs": [],
   "source": [
    "# random.rand\n",
    "import numpy as np\n",
    "a=np.random.rand(4)  # 1D array with positive values \n",
    "b=np.random.rand(2,3) # 2D array with positive values\n",
    "c=np.random.rand(2,2,3) # 3D array with positive values\n",
    "d=np.random.randn(2,3)  # 12D array with negative and positive values"
   ]
  },
  {
   "cell_type": "code",
   "execution_count": 91,
   "id": "dff98d38-2f7d-4c0b-a5f8-c8935178824b",
   "metadata": {},
   "outputs": [
    {
     "name": "stdout",
     "output_type": "stream",
     "text": [
      "[0.83027942 0.43928398 0.48093834 0.41598164]\n"
     ]
    }
   ],
   "source": [
    "print(a)"
   ]
  },
  {
   "cell_type": "code",
   "execution_count": 96,
   "id": "0130fe94-53b8-4e72-8d60-dac93690eab6",
   "metadata": {},
   "outputs": [
    {
     "data": {
      "text/plain": [
       "array([11, 12, 13, 14, 15, 16])"
      ]
     },
     "execution_count": 96,
     "metadata": {},
     "output_type": "execute_result"
    }
   ],
   "source": [
    "#aggregate function\n",
    "a=np.array([11,12,13,14,15,16])\n",
    "a"
   ]
  },
  {
   "cell_type": "code",
   "execution_count": 103,
   "id": "e629ecb5-3f81-4a89-85a5-9892dc6f790f",
   "metadata": {},
   "outputs": [
    {
     "name": "stdout",
     "output_type": "stream",
     "text": [
      "81\n"
     ]
    }
   ],
   "source": [
    "print(a.sum())"
   ]
  },
  {
   "cell_type": "code",
   "execution_count": 102,
   "id": "2f6581be-d203-4066-a91b-cc8c62ae8e6d",
   "metadata": {},
   "outputs": [
    {
     "name": "stdout",
     "output_type": "stream",
     "text": [
      "5765760\n"
     ]
    }
   ],
   "source": [
    "print(a.prod())"
   ]
  },
  {
   "cell_type": "code",
   "execution_count": 97,
   "id": "3998ae21-0b03-4588-ae7a-79bfa0427952",
   "metadata": {},
   "outputs": [
    {
     "data": {
      "text/plain": [
       "np.float64(13.5)"
      ]
     },
     "execution_count": 97,
     "metadata": {},
     "output_type": "execute_result"
    }
   ],
   "source": [
    "print(a.mean())"
   ]
  },
  {
   "cell_type": "code",
   "execution_count": 104,
   "id": "47846d09-2472-41ec-b240-de5d67300c3b",
   "metadata": {},
   "outputs": [
    {
     "name": "stdout",
     "output_type": "stream",
     "text": [
      "1.707825127659933\n"
     ]
    }
   ],
   "source": [
    "print(a.std())"
   ]
  },
  {
   "cell_type": "code",
   "execution_count": 105,
   "id": "0bfb3ae4-4f15-45c5-85df-13651676c70a",
   "metadata": {},
   "outputs": [
    {
     "name": "stdout",
     "output_type": "stream",
     "text": [
      "2.9166666666666665\n"
     ]
    }
   ],
   "source": [
    "print(a.var())"
   ]
  },
  {
   "cell_type": "code",
   "execution_count": 106,
   "id": "5176d42b-b82c-4a3d-baba-8e9cb4a49ed6",
   "metadata": {},
   "outputs": [
    {
     "name": "stdout",
     "output_type": "stream",
     "text": [
      "11\n"
     ]
    }
   ],
   "source": [
    "print(a.min())"
   ]
  },
  {
   "cell_type": "code",
   "execution_count": 107,
   "id": "e33ce159-1f0c-4031-874e-108794462d1f",
   "metadata": {},
   "outputs": [
    {
     "name": "stdout",
     "output_type": "stream",
     "text": [
      "16\n"
     ]
    }
   ],
   "source": [
    "print(a.max())"
   ]
  },
  {
   "cell_type": "code",
   "execution_count": 109,
   "id": "e92a98f7-4754-492f-a5c3-8fd51ddad1fb",
   "metadata": {},
   "outputs": [
    {
     "name": "stdout",
     "output_type": "stream",
     "text": [
      "True\n"
     ]
    }
   ],
   "source": [
    "print(a.all()) # all() returns true if there is a non zero value in an array"
   ]
  },
  {
   "cell_type": "code",
   "execution_count": 112,
   "id": "bad78b1b-d8f3-44c2-8c54-95dae9a0e6bd",
   "metadata": {},
   "outputs": [
    {
     "data": {
      "text/plain": [
       "array([[0., 0., 0., 0., 0., 0., 0., 0., 0., 0.],\n",
       "       [0., 0., 0., 0., 0., 0., 0., 0., 0., 0.],\n",
       "       [0., 0., 0., 0., 0., 0., 0., 0., 0., 0.],\n",
       "       [0., 0., 0., 0., 0., 0., 0., 0., 0., 0.],\n",
       "       [0., 0., 0., 0., 0., 0., 0., 0., 0., 0.],\n",
       "       [0., 0., 0., 0., 0., 0., 0., 0., 0., 0.],\n",
       "       [0., 0., 0., 0., 0., 0., 0., 0., 0., 0.],\n",
       "       [0., 0., 0., 0., 0., 0., 0., 0., 0., 0.],\n",
       "       [0., 0., 0., 0., 0., 0., 0., 0., 0., 0.],\n",
       "       [0., 0., 0., 0., 0., 0., 0., 0., 0., 0.]])"
      ]
     },
     "execution_count": 112,
     "metadata": {},
     "output_type": "execute_result"
    }
   ],
   "source": [
    "b= np.zeros((10,10)) # zeros(row,col) create a 10 by 10 matrix with all zero values\n",
    "b"
   ]
  },
  {
   "cell_type": "code",
   "execution_count": 113,
   "id": "25f81647-c473-4e53-b9a1-d5842a31458b",
   "metadata": {},
   "outputs": [
    {
     "name": "stdout",
     "output_type": "stream",
     "text": [
      "False\n"
     ]
    }
   ],
   "source": [
    "print(b.all())"
   ]
  },
  {
   "cell_type": "code",
   "execution_count": 114,
   "id": "10d112fc-71ba-4b52-9ff6-aad86de65b42",
   "metadata": {},
   "outputs": [
    {
     "data": {
      "text/plain": [
       "array([[1., 0., 0.],\n",
       "       [0., 1., 0.],\n",
       "       [0., 0., 1.]])"
      ]
     },
     "execution_count": 114,
     "metadata": {},
     "output_type": "execute_result"
    }
   ],
   "source": [
    "c=np.eye(3)\n",
    "c"
   ]
  },
  {
   "cell_type": "code",
   "execution_count": 118,
   "id": "bf5e5cda-db78-4709-9297-d812e99748e4",
   "metadata": {},
   "outputs": [
    {
     "data": {
      "text/plain": [
       "array([[0., 0., 0., 0., 0.],\n",
       "       [1., 0., 0., 0., 0.],\n",
       "       [0., 1., 0., 0., 0.],\n",
       "       [0., 0., 1., 0., 0.],\n",
       "       [0., 0., 0., 1., 0.]])"
      ]
     },
     "execution_count": 118,
     "metadata": {},
     "output_type": "execute_result"
    }
   ],
   "source": [
    "d=np.eye(5,5,k=-1) # try with k=1 or k=-1\n",
    "d"
   ]
  },
  {
   "cell_type": "code",
   "execution_count": 134,
   "id": "28351bb5-c3b9-4d2e-ae4e-85604c8f3666",
   "metadata": {},
   "outputs": [
    {
     "data": {
      "text/plain": [
       "array([[0., 0., 0., 0., 0., 0., 0., 0., 0., 0.],\n",
       "       [1., 1., 1., 1., 1., 1., 1., 1., 1., 1.],\n",
       "       [2., 2., 2., 2., 2., 2., 2., 2., 2., 2.],\n",
       "       [3., 3., 3., 3., 3., 3., 3., 3., 3., 3.],\n",
       "       [4., 4., 4., 4., 4., 4., 4., 4., 4., 4.],\n",
       "       [5., 5., 5., 5., 5., 5., 5., 5., 5., 5.],\n",
       "       [6., 6., 6., 6., 6., 6., 6., 6., 6., 6.],\n",
       "       [7., 7., 7., 7., 7., 7., 7., 7., 7., 7.],\n",
       "       [8., 8., 8., 8., 8., 8., 8., 8., 8., 8.],\n",
       "       [9., 9., 9., 9., 9., 9., 9., 9., 9., 9.]])"
      ]
     },
     "execution_count": 134,
     "metadata": {},
     "output_type": "execute_result"
    }
   ],
   "source": [
    "b=np.zeros((10,10))    #loops in array\n",
    "for i in range (10): # range(col value)\n",
    "    b[i]=i\n",
    "b"
   ]
  },
  {
   "cell_type": "code",
   "execution_count": 139,
   "id": "2ee53ccd-917c-4dd1-92e5-17d10e497a89",
   "metadata": {},
   "outputs": [
    {
     "ename": "AttributeError",
     "evalue": "'int' object has no attribute 'shape'",
     "output_type": "error",
     "traceback": [
      "\u001b[1;31m---------------------------------------------------------------------------\u001b[0m",
      "\u001b[1;31mAttributeError\u001b[0m                            Traceback (most recent call last)",
      "Cell \u001b[1;32mIn[139], line 1\u001b[0m\n\u001b[1;32m----> 1\u001b[0m b\u001b[38;5;241m=\u001b[39m\u001b[43mb\u001b[49m\u001b[38;5;241;43m.\u001b[39;49m\u001b[43mshape\u001b[49m[\u001b[38;5;241m1\u001b[39m]\n\u001b[0;32m      2\u001b[0m \u001b[38;5;28mprint\u001b[39m(b)\n",
      "\u001b[1;31mAttributeError\u001b[0m: 'int' object has no attribute 'shape'"
     ]
    }
   ],
   "source": [
    "b= b.shape[1]\n",
    "print(b)"
   ]
  },
  {
   "cell_type": "code",
   "execution_count": 145,
   "id": "ccb74281-6cea-4d23-bd7e-cc861663ecc1",
   "metadata": {},
   "outputs": [
    {
     "name": "stdout",
     "output_type": "stream",
     "text": [
      "before cumsum [11 12 13 14 15 16]\n",
      "after cumsum [11 23 36 50 65 81]\n"
     ]
    }
   ],
   "source": [
    "#cumsum\n",
    "print('before cumsum',a)\n",
    "print('after cumsum',a.cumsum())"
   ]
  },
  {
   "cell_type": "code",
   "execution_count": 146,
   "id": "b5776706-1aa2-4653-857b-764ff9cb3563",
   "metadata": {},
   "outputs": [
    {
     "name": "stdout",
     "output_type": "stream",
     "text": [
      "before cumprod [11 12 13 14 15 16]\n",
      "after cumprod [     11     132    1716   24024  360360 5765760]\n"
     ]
    }
   ],
   "source": [
    "# cumprod\n",
    "print('before cumprod',a)\n",
    "print('after cumprod',a.cumprod())"
   ]
  },
  {
   "cell_type": "code",
   "execution_count": 147,
   "id": "1bd095cf-64e1-471c-adcf-d528b238c367",
   "metadata": {},
   "outputs": [
    {
     "name": "stdout",
     "output_type": "stream",
     "text": [
      "[11 12 13 14 15]\n",
      "<class 'numpy.ndarray'>\n"
     ]
    }
   ],
   "source": [
    "import numpy as np\n",
    "\n",
    "array1 = np.array([1, 2, 3, 4, 5 ])\n",
    "number = 10\n",
    "\n",
    "#  number sums up with each array element\n",
    "result = array1 + number\n",
    "\n",
    "print(result)\n",
    "print(type(result))"
   ]
  },
  {
   "cell_type": "code",
   "execution_count": 148,
   "id": "90a64cb2-45e8-435e-9823-dad0c9004dac",
   "metadata": {},
   "outputs": [
    {
     "name": "stdout",
     "output_type": "stream",
     "text": [
      "For loop time: 0.0\n"
     ]
    }
   ],
   "source": [
    "import time \n",
    "\n",
    "start = time.time()\n",
    "\n",
    "array1 = [1, 2, 3, 4, 5]\n",
    "\n",
    "for i in range(len(array1)):\n",
    "    array1[i] =array1[i]+ 10\n",
    "\n",
    "#print(array1)\n",
    "\n",
    "end = time.time()\n",
    "\n",
    "print(\"For loop time:\", end - start)"
   ]
  },
  {
   "cell_type": "code",
   "execution_count": 149,
   "id": "e876be16-5ec4-4f21-b9a5-057529bc25f3",
   "metadata": {},
   "outputs": [
    {
     "name": "stdout",
     "output_type": "stream",
     "text": [
      "Vectorization time: 0.0\n"
     ]
    }
   ],
   "source": [
    "import numpy as np\n",
    "import time\n",
    "\n",
    "start = time.time()\n",
    "\n",
    "array1 = np.array([1, 2, 3, 4, 5 ])\n",
    "\n",
    "result = array1 + 10\n",
    "\n",
    "#print(result)\n",
    "\n",
    "end = time.time()\n",
    "\n",
    "print(\"Vectorization time:\", end - start)"
   ]
  },
  {
   "cell_type": "code",
   "execution_count": 150,
   "id": "393065dd-268c-418e-9559-bd595017c59f",
   "metadata": {},
   "outputs": [
    {
     "name": "stdout",
     "output_type": "stream",
     "text": [
      "[ 1  4  9 16 25]\n",
      "total execution time is 0.46408987045288086\n"
     ]
    }
   ],
   "source": [
    "# find square of number in an array\n",
    "import time\n",
    "start_time= time.time()\n",
    "def find_square(x):\n",
    "    if x < 0:\n",
    "        return 0\n",
    "    else:\n",
    "        return x ** 2\n",
    "\n",
    "\n",
    "#s=find_square(4)\n",
    "#s\n",
    "array1 = [1, 2, 3, 4, 5]\n",
    "v_func=np.vectorize(find_square)\n",
    "s=v_func(array1)\n",
    "\n",
    "print(s)\n",
    "\n",
    "end_time= time.time()\n",
    "\n",
    "print(\"total execution time is\",end_time-start_time)"
   ]
  },
  {
   "cell_type": "code",
   "execution_count": 151,
   "id": "4f8dc75e-4593-4182-80df-f530cf10c343",
   "metadata": {},
   "outputs": [
    {
     "name": "stdout",
     "output_type": "stream",
     "text": [
      "[[0]\n",
      " [1]]\n"
     ]
    },
    {
     "data": {
      "text/plain": [
       "array([[32, 35, 38, 41, 44],\n",
       "       [48, 51, 54, 57, 60]])"
      ]
     },
     "execution_count": 151,
     "metadata": {},
     "output_type": "execute_result"
    }
   ],
   "source": [
    "#campatibility rules: one of them has a length of 1 or they are equal\n",
    "#check from right to left\n",
    "x=np.arange(2,22,2)\n",
    "\n",
    "#print(x)\n",
    "\n",
    "y=np.arange(30,40)\n",
    "\n",
    "w=np.arange(2)\n",
    "\n",
    "x=x.reshape(2,5)\n",
    "\n",
    "#y=y.reshape(5,2)  # cannot broadcast\n",
    "#y=y.reshape(10,1)  # cannot broadcast\n",
    "y=y.reshape(2,5)\n",
    "\n",
    "#w=w.reshape(1,2)  #cannot broadcast\n",
    "w=w.reshape(2,1)\n",
    "print(w)\n",
    "z=x+y+w\n",
    "z"
   ]
  },
  {
   "cell_type": "code",
   "execution_count": 156,
   "id": "a7c0144f-b632-4e3c-a313-eb7ce005a7e0",
   "metadata": {},
   "outputs": [
    {
     "name": "stdout",
     "output_type": "stream",
     "text": [
      "[False  True  True False False False False False]\n",
      "[56 88]\n"
     ]
    }
   ],
   "source": [
    "#Boolean indexing :In NumPy, boolean indexing allows us to filter elements from an array based on a specific condition.\n",
    "# boolean mask\n",
    "a=np.array([23,56,88,1,2,4,10,15])\n",
    "# boolean mask\n",
    "bm=a>40\n",
    "print(bm)\n",
    "print(a[bm])"
   ]
  },
  {
   "cell_type": "code",
   "execution_count": 154,
   "id": "068fad3c-0072-4ff4-ae3d-5c9b03a7caac",
   "metadata": {},
   "outputs": [
    {
     "data": {
      "text/plain": [
       "array([[15, 25, 35],\n",
       "       [45, 55, 65]])"
      ]
     },
     "execution_count": 154,
     "metadata": {},
     "output_type": "execute_result"
    }
   ],
   "source": [
    "#broadcasting with scalar\n",
    "a=np.array([[10,20,30],[40,50,60]])\n",
    "a\n",
    "#broadcasting with scalar\n",
    "b=5\n",
    "c=a+b\n",
    "c"
   ]
  },
  {
   "cell_type": "code",
   "execution_count": 163,
   "id": "7d60fcd9-60df-45e6-b338-1654c9a12ec8",
   "metadata": {},
   "outputs": [
    {
     "name": "stdout",
     "output_type": "stream",
     "text": [
      "[False False False False False  True False False  True]\n",
      "[48 98]\n"
     ]
    }
   ],
   "source": [
    "#use logical and ,or\n",
    "a=np.array([10,15,47,38,28,48,29,59,98])\n",
    "bm1=(a%2==0) & (a>40)\n",
    "#bm2=bm1>40\n",
    "print(bm1)\n",
    "print(a[bm1])"
   ]
  },
  {
   "cell_type": "code",
   "execution_count": 164,
   "id": "7bff67dc-5e96-4e49-abf1-d050958bc4c2",
   "metadata": {},
   "outputs": [
    {
     "name": "stdout",
     "output_type": "stream",
     "text": [
      "[14 19 21 25 29 35]\n",
      "[[False False False]\n",
      " [ True  True  True]\n",
      " [ True  True  True]]\n"
     ]
    }
   ],
   "source": [
    "import numpy as np\n",
    "\n",
    "# create a 2D  array\n",
    "array1 = np.array([[1, 7, 9], \n",
    "                    [14, 19, 21], \n",
    "                    [25, 29, 35]])\n",
    "\n",
    "# create a boolean mask based on the condition \n",
    "# that elements are greater than 9\n",
    "boolean_mask = array1 > 9\n",
    "\n",
    "# select only the elements that satisfy the condition\n",
    "result = array1[boolean_mask]\n",
    "\n",
    "print(result)\n",
    "print(boolean_mask)"
   ]
  },
  {
   "cell_type": "code",
   "execution_count": 166,
   "id": "0462aace-c40e-40b6-80e4-7f5d9c44ccd3",
   "metadata": {},
   "outputs": [
    {
     "data": {
      "text/plain": [
       "array([ 10,  15,  47,  38,  28, 100,  29,  59, 100])"
      ]
     },
     "execution_count": 166,
     "metadata": {},
     "output_type": "execute_result"
    }
   ],
   "source": [
    "# update the true value with specified value\n",
    "a[bm1]=100\n",
    "a"
   ]
  },
  {
   "cell_type": "code",
   "execution_count": null,
   "id": "2688eae8-fba0-4d8c-9c41-3aa2353909c5",
   "metadata": {},
   "outputs": [],
   "source": []
  }
 ],
 "metadata": {
  "kernelspec": {
   "display_name": "Python 3 (ipykernel)",
   "language": "python",
   "name": "python3"
  },
  "language_info": {
   "codemirror_mode": {
    "name": "ipython",
    "version": 3
   },
   "file_extension": ".py",
   "mimetype": "text/x-python",
   "name": "python",
   "nbconvert_exporter": "python",
   "pygments_lexer": "ipython3",
   "version": "3.12.4"
  }
 },
 "nbformat": 4,
 "nbformat_minor": 5
}
