{
 "cells": [
  {
   "cell_type": "code",
   "execution_count": 5,
   "id": "6c0421a9-46e2-4d82-a663-d9f19328e72f",
   "metadata": {},
   "outputs": [
    {
     "name": "stdout",
     "output_type": "stream",
     "text": [
      "we are calling attributes now\n",
      "circles radius is  3\n",
      "circles diameter is  6\n",
      "we are calling class methods now\n",
      "area of circle is  28.259999999999998\n"
     ]
    }
   ],
   "source": [
    "class shape_circle:\n",
    "    radius=3\n",
    "    diameter=6\n",
    "    def area_circle():\n",
    "        a=3.14*3*3\n",
    "        print('area of circle is ',a)\n",
    "\n",
    "print('we are calling attributes now')\n",
    "r=shape_circle\n",
    "print('circles radius is ',r.radius)\n",
    "print('circles diameter is ',r.diameter)\n",
    "print('we are calling class methods now')\n",
    "shape_circle.area_circle()"
   ]
  },
  {
   "cell_type": "code",
   "execution_count": 8,
   "id": "09697608-8ef4-4b7b-b2dc-c2f509188001",
   "metadata": {},
   "outputs": [
    {
     "name": "stdout",
     "output_type": "stream",
     "text": [
      "the name of student is  hemant\n",
      "percentage is  90.0\n"
     ]
    }
   ],
   "source": [
    "class student:\n",
    "    name='hemant'\n",
    "    age=29\n",
    "    mail_id='xyz.com'\n",
    "    marks=90\n",
    "    course='python'\n",
    "    def percentage():\n",
    "        per = 90/100*100\n",
    "        print('percentage is ', per)\n",
    "\n",
    "s1=student()\n",
    "print('the name of student is ',s1.name)\n",
    "student.percentage()\n",
    "       "
   ]
  },
  {
   "cell_type": "code",
   "execution_count": 9,
   "id": "0de96e8e-5b6d-4c6e-82d2-65ad055437f0",
   "metadata": {},
   "outputs": [
    {
     "name": "stdin",
     "output_type": "stream",
     "text": [
      "enter number 345\n"
     ]
    },
    {
     "name": "stdout",
     "output_type": "stream",
     "text": [
      "345\n",
      "<class 'int'>\n",
      "355\n",
      "<class 'int'>\n"
     ]
    }
   ],
   "source": [
    "x=int(input('enter number'))\n",
    "print(x)             # x is a object of int class\n",
    "print(type(x))\n",
    "y=x+10               # x can hold all attributes and methods of int class\n",
    "print(y)\n",
    "print(type(y))       # y is an object of int class"
   ]
  },
  {
   "cell_type": "code",
   "execution_count": 15,
   "id": "a3a22b0c-6f28-429a-a13d-19c4e0cae92f",
   "metadata": {},
   "outputs": [
    {
     "name": "stdout",
     "output_type": "stream",
     "text": [
      "we are calling attributes now\n",
      "circles radius is  3\n",
      "circles diameter is  6\n",
      "we are calling class methods now\n",
      "area of circle is  28.259999999999998\n"
     ]
    }
   ],
   "source": [
    "#constructor\n",
    "class shape_circle:\n",
    "    def __init__(self):                      # default constructor\n",
    "        self.radius=3\n",
    "        self.diameter=6\n",
    "    def area_circle(self):\n",
    "        a=3.14*(self.radius)*(self.radius)   # attributes ae accessible due to self pointer\n",
    "        print('area of circle is ',a)\n",
    "\n",
    "print('we are calling attributes now')\n",
    "r=shape_circle()                             # allocate memory for object by init constructor \n",
    "print('circles radius is ',r.radius)         # r can access attributes of class\n",
    "print('circles diameter is ',r.diameter)\n",
    "print('we are calling class methods now')\n",
    "r.area_circle()                              # r can access methods of class"
   ]
  },
  {
   "cell_type": "code",
   "execution_count": 19,
   "id": "5036a11c-bc5f-4dd5-9477-c3233434b00a",
   "metadata": {},
   "outputs": [
    {
     "name": "stdout",
     "output_type": "stream",
     "text": [
      "we are calling attributes now\n",
      "circles radius is  3\n",
      "circles diameter is  6\n",
      "we are calling class methods now\n",
      "area of circle is  28.259999999999998\n",
      "destructor is called\n"
     ]
    }
   ],
   "source": [
    "#destructor\n",
    "class shape_circle:\n",
    "    def __init__(self):                      # default constructor\n",
    "        self.radius=3\n",
    "        self.diameter=6\n",
    "    def __del__(self):\n",
    "        print('destructor is called')\n",
    "    def area_circle(self):\n",
    "        a=3.14*(self.radius)*(self.radius)   # attributes ae accessible due to self pointer\n",
    "        print('area of circle is ',a)\n",
    "\n",
    "print('we are calling attributes now')\n",
    "r=shape_circle()                             # allocate memory for object by init constructor \n",
    "print('circles radius is ',r.radius)         # r can access attributes of class\n",
    "print('circles diameter is ',r.diameter)\n",
    "print('we are calling class methods now')\n",
    "r.area_circle()                              # r can access methods of class\n",
    "del r                                        # reference between r and class is deleted\n"
   ]
  },
  {
   "cell_type": "code",
   "execution_count": 17,
   "id": "61fb7ea2-d520-4110-96ed-4ffe296571b7",
   "metadata": {},
   "outputs": [
    {
     "ename": "NameError",
     "evalue": "name 'r' is not defined",
     "output_type": "error",
     "traceback": [
      "\u001b[1;31m---------------------------------------------------------------------------\u001b[0m",
      "\u001b[1;31mNameError\u001b[0m                                 Traceback (most recent call last)",
      "Cell \u001b[1;32mIn[17], line 1\u001b[0m\n\u001b[1;32m----> 1\u001b[0m \u001b[43mr\u001b[49m\u001b[38;5;241m.\u001b[39marea_circle()\n",
      "\u001b[1;31mNameError\u001b[0m: name 'r' is not defined"
     ]
    }
   ],
   "source": [
    "r.area_circle()"
   ]
  },
  {
   "cell_type": "code",
   "execution_count": 21,
   "id": "7a483541-a574-45fa-a750-b6643b8d1dbb",
   "metadata": {},
   "outputs": [
    {
     "name": "stdout",
     "output_type": "stream",
     "text": [
      "name of student is  hemant\n",
      "age of student is  29\n",
      "mail of student is  hemu.com\n",
      "marks of student is  98\n",
      "course of student is  AI\n",
      "percentage is  90.0\n",
      "name of student is  rahul\n",
      "age of student is  24\n",
      "mail of student is  rahul.com\n",
      "marks of student is  76\n",
      "course of student is  DWA\n",
      "percentage is  90.0\n"
     ]
    }
   ],
   "source": [
    "class student:\n",
    "    def __init__(self,nm,ag,ml,mr,co):\n",
    "        self.name=nm\n",
    "        self.age=ag\n",
    "        self.mail=ml\n",
    "        self.marks=mr\n",
    "        self.course=co\n",
    "    def display_info(self):\n",
    "        print('name of student is ',self.name)\n",
    "        print('age of student is ',self.age)\n",
    "        print('mail of student is ',self.mail)\n",
    "        print('marks of student is ',self.marks)\n",
    "        print('course of student is ',self.course)\n",
    "        per = 90/100*100\n",
    "        print('percentage is ', per)\n",
    "\n",
    "s1=student('hemant',29,'hemu.com',98,'AI')\n",
    "s1.display_info()\n",
    "s2=student('rahul',24,'rahul.com',76,'DWA')\n",
    "s2.display_info()\n",
    "              "
   ]
  },
  {
   "cell_type": "code",
   "execution_count": 23,
   "id": "96e70be5-191a-4664-967b-e352bf43e1c2",
   "metadata": {},
   "outputs": [
    {
     "name": "stdin",
     "output_type": "stream",
     "text": [
      "enter name ram\n",
      "enter age 37\n",
      "enter yoe 9\n"
     ]
    },
    {
     "name": "stdout",
     "output_type": "stream",
     "text": [
      "name of employee is  ram\n",
      "age of employee is  37\n",
      "yoe is  9\n"
     ]
    }
   ],
   "source": [
    "class employee:\n",
    "    def __init__(self,nm,ag,exp):\n",
    "        self.name=nm\n",
    "        self.age=ag\n",
    "        self.yoe=exp\n",
    "    \n",
    "    def display_info(self):\n",
    "        print('name of employee is ',self.name)\n",
    "        print('age of employee is ',self.age)\n",
    "        print('yoe is ',self.yoe)\n",
    "        \n",
    "name1=input('enter name')\n",
    "age1=input('enter age')\n",
    "yoe1=input('enter yoe')\n",
    "\n",
    "e1=employee(name1,age1,yoe1)\n",
    "e1.display_info()\n"
   ]
  },
  {
   "cell_type": "code",
   "execution_count": null,
   "id": "81a96a8a-a364-4a34-948e-a30b3c44f02c",
   "metadata": {},
   "outputs": [],
   "source": []
  },
  {
   "cell_type": "code",
   "execution_count": null,
   "id": "a7529b86-0afb-48a6-bb57-b20ebed1409d",
   "metadata": {},
   "outputs": [],
   "source": []
  },
  {
   "cell_type": "code",
   "execution_count": 29,
   "id": "5ade2be7-745b-4494-b988-9b79a130ebbd",
   "metadata": {},
   "outputs": [
    {
     "name": "stdin",
     "output_type": "stream",
     "text": [
      "enter and data yo yo honey singh!\n"
     ]
    }
   ],
   "source": [
    "#open a file and copy a file\n",
    "import shutil  # library to copy\n",
    "fp=open('file1.txt','w')\n",
    "data=input('enter and data')\n",
    "fp.write(data)\n",
    "fp.close()"
   ]
  },
  {
   "cell_type": "code",
   "execution_count": 29,
   "id": "cd4bc688-1e64-4ad5-be1d-4d21acc7a1b4",
   "metadata": {},
   "outputs": [
    {
     "name": "stdin",
     "output_type": "stream",
     "text": [
      "enter and data yo yo honey singh!\n"
     ]
    }
   ],
   "source": [
    "#open a file and copy a file\n",
    "import shutil  # library to copy\n",
    "fp=open('file1.txt','w')\n",
    "data=input('enter and data')\n",
    "fp.write(data)\n",
    "fp.close()"
   ]
  },
  {
   "cell_type": "code",
   "execution_count": 31,
   "id": "4bf874c8-d2fd-48b4-a554-23a4ddfa07e1",
   "metadata": {},
   "outputs": [
    {
     "name": "stdin",
     "output_type": "stream",
     "text": [
      "enter and data kaka\n"
     ]
    }
   ],
   "source": [
    "fp=open('file1.txt','a') # append \n",
    "data=input('enter and data')\n",
    "fp.write(data)\n",
    "fp.close()"
   ]
  },
  {
   "cell_type": "code",
   "execution_count": 32,
   "id": "72c3463b-6936-4231-92f8-ed08c5d3ae24",
   "metadata": {},
   "outputs": [],
   "source": [
    "fp1=open('file1_copy.txt','w')\n",
    "shutil.copy('file1.txt','file1_copy.txt')\n",
    "fp1.close()"
   ]
  },
  {
   "cell_type": "code",
   "execution_count": 33,
   "id": "980a1c4a-43d0-497f-aa41-1fa6b6964b66",
   "metadata": {},
   "outputs": [
    {
     "name": "stdout",
     "output_type": "stream",
     "text": [
      "Brand: Maruti\n",
      "Model: Alto\n",
      "Year: 2022\n",
      "speed up ...\n",
      "Brand: AAA\n",
      "Model: BBB\n",
      "Year: 2024\n",
      "Available\n",
      "speed up ...\n",
      "Car stop\n"
     ]
    }
   ],
   "source": [
    "# Import required modules \n",
    "from abc import ABC, abstractmethod \n",
    "\n",
    "# Create Abstract base class \n",
    "class Car(ABC):\n",
    "    def __init__(self, brand, model, year): \n",
    "\t       self.brand = brand \n",
    "\t       self.model = model \n",
    "\t       self.year = year \n",
    "\t\n",
    "# Create abstract method\t \n",
    "    @abstractmethod\n",
    "    def printDetails(self): \n",
    "        pass\n",
    "\t\n",
    "# Create concrete method \n",
    "    def accelerate(self): \n",
    "        print(\"speed up ...\") \n",
    "\t\n",
    "    def break_applied(self): \n",
    "        print(\"Car stop\")\n",
    "# Create a child class \n",
    "class Hatchback(Car):\n",
    "    def printDetails(self):\n",
    "        print(\"Brand:\", self.brand)\n",
    "        print(\"Model:\", self.model) \n",
    "        print(\"Year:\", self.year)\n",
    "\t\n",
    "    def Sunroof(self): \n",
    "        print(\"Not having this feature\")\n",
    "# Create a child class \n",
    "class Suv(Car): \n",
    "    def printDetails(self): \n",
    "        print(\"Brand:\", self.brand)\n",
    "        print(\"Model:\", self.model) \n",
    "        print(\"Year:\", self.year)\n",
    "\t\n",
    "    def Sunroof(self): \n",
    "        print(\"Available\")\n",
    "car1 = Hatchback(\"Maruti\", \"Alto\", \"2022\")\n",
    "car1.printDetails() \n",
    "car1.accelerate() \n",
    "\n",
    "car2= Suv(\"AAA\",\"BBB\",2024)\n",
    "car2.printDetails()   # calling from Suv class\n",
    "car2.Sunroof()        # calling from suv class\n",
    "car2.accelerate()     # calling from base class\n",
    "car2.break_applied()  # calling from base class"
   ]
  },
  {
   "cell_type": "code",
   "execution_count": 34,
   "id": "36a519a0-47d4-4941-81ec-29bc49c858be",
   "metadata": {},
   "outputs": [
    {
     "name": "stdout",
     "output_type": "stream",
     "text": [
      "There are many types of birds.\n",
      "Most of the birds can fly but some cannot.\n",
      "There are many types of birds.\n",
      "Sparrows can fly.\n",
      "There are many types of birds.\n",
      "Ostriches cannot fly.\n"
     ]
    }
   ],
   "source": [
    "class Bird(object):\n",
    "    def intro(self):\n",
    "        print(\"There are many types of birds.\")\n",
    "\t\n",
    "    def flight(self):\n",
    "        print(\"Most of the birds can fly but some cannot.\")\n",
    "\n",
    "class sparrow(Bird):\n",
    "    def flight(self):\n",
    "        print(\"Sparrows can fly.\")\n",
    "\t\n",
    "class ostrich(Bird):\n",
    "    def flight(self):\n",
    "        print(\"Ostriches cannot fly.\")\n",
    "obj_bird = Bird()\n",
    "obj_spr = sparrow()\n",
    "obj_ost = ostrich()\n",
    "\n",
    "obj_bird.intro()     #There are many types of birds\n",
    "obj_bird.flight()    # Most of the birds can fly but some cannot\n",
    "\n",
    "obj_spr.intro()     # There are many types of birds\n",
    "obj_spr.flight()    # Sparrows can fly\n",
    "\n",
    "obj_ost.intro()     # There are many types of birds\n",
    "obj_ost.flight()    # Ostriches cannot fly."
   ]
  },
  {
   "cell_type": "code",
   "execution_count": null,
   "id": "617b92d1-b64f-4d19-be7d-f3ce53995b6a",
   "metadata": {},
   "outputs": [],
   "source": []
  }
 ],
 "metadata": {
  "kernelspec": {
   "display_name": "Python 3 (ipykernel)",
   "language": "python",
   "name": "python3"
  },
  "language_info": {
   "codemirror_mode": {
    "name": "ipython",
    "version": 3
   },
   "file_extension": ".py",
   "mimetype": "text/x-python",
   "name": "python",
   "nbconvert_exporter": "python",
   "pygments_lexer": "ipython3",
   "version": "3.12.4"
  }
 },
 "nbformat": 4,
 "nbformat_minor": 5
}
